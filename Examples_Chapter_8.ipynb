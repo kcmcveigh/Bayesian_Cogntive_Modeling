{
 "cells": [
  {
   "cell_type": "code",
   "execution_count": 13,
   "metadata": {},
   "outputs": [],
   "source": [
    "import pymc3 as pm\n",
    "import numpy as np\n",
    "import pandas as pd\n",
    "import matplotlib.pyplot as plt\n",
    "from scipy import stats"
   ]
  },
  {
   "cell_type": "code",
   "execution_count": 2,
   "metadata": {},
   "outputs": [],
   "source": [
    "#example 8.1\n",
    "#compare gaussian means\n",
    "#fictional data set about seasonal memory model\n",
    "#increase glucose in the summer increases  recall\n",
    "#data below\n",
    "Winter = np.array([-0.05, 0.41, 0.17, -0.13, 0.00, -0.05, 0.00, 0.17, 0.29, 0.04, 0.21, 0.08, 0.37, 0.17, 0.08, -0.04, -0.04, 0.04, -0.13, -0.12, 0.04, 0.21, 0.17, 0.17, 0.17, 0.33, 0.04, 0.04, 0.04, 0.00, 0.21, 0.13, 0.25, -0.05, 0.29, 0.42, -0.05, 0.12, 0.04, 0.25, 0.12])\n",
    "Summer = np.array([0.00, 0.38, -0.12, 0.12, 0.25, 0.12, 0.13, 0.37, 0.00, 0.50, 0.00, 0.00, -0.13, -0.37, -0.25, -0.12, 0.50, 0.25, 0.13, 0.25, 0.25, 0.38, 0.25, 0.12, 0.00, 0.00, 0.00, 0.00, 0.25, 0.13, -0.25, -0.38, -0.13, -0.25, 0.00, 0.00, -0.12, 0.25, 0.00, 0.50, 0.00])\n",
    "\n",
    "#Allowed because it is a within-subjects design\n",
    "x = Winter - Summer\n",
    "x = x/np.std(x); # Standardize"
   ]
  },
  {
   "cell_type": "code",
   "execution_count": 3,
   "metadata": {},
   "outputs": [],
   "source": [
    "with pm.Model() as model:\n",
    "    effect_size = pm.Cauchy('effect_size',alpha=0,beta=1)\n",
    "    std_dev = pm.HalfCauchy('std', beta=1)\n",
    "    mu = effect_size * std_dev\n",
    "    norm_distribution = pm.Normal('norm_obs', mu=mu, sd=std_dev, observed=x)\n",
    "    prior_effect_size = pm.Cauchy('prior_effect_size',alpha=0,beta=1)"
   ]
  },
  {
   "cell_type": "code",
   "execution_count": 4,
   "metadata": {},
   "outputs": [
    {
     "name": "stderr",
     "output_type": "stream",
     "text": [
      "Auto-assigning NUTS sampler...\n",
      "Initializing NUTS using jitter+adapt_diag...\n",
      "Multiprocess sampling (2 chains in 2 jobs)\n",
      "NUTS: [prior_effect_size, std, effect_size]\n",
      "Sampling 2 chains: 100%|██████████| 21000/21000 [01:27<00:00, 241.25draws/s]\n",
      "/anaconda3/lib/python3.7/site-packages/mkl_fft/_numpy_fft.py:1044: FutureWarning: Using a non-tuple sequence for multidimensional indexing is deprecated; use `arr[tuple(seq)]` instead of `arr[seq]`. In the future this will be interpreted as an array index, `arr[np.array(seq)]`, which will result either in an error or a different result.\n",
      "  output = mkl_fft.rfftn_numpy(a, s, axes)\n",
      "The acceptance probability does not match the target. It is 0.41675764473806315, but should be close to 0.8. Try to increase the number of tuning steps.\n",
      "The acceptance probability does not match the target. It is 0.9142594777742089, but should be close to 0.8. Try to increase the number of tuning steps.\n",
      "The number of effective samples is smaller than 10% for some parameters.\n"
     ]
    }
   ],
   "source": [
    "with model:\n",
    "    trace = pm.sample(10000)"
   ]
  },
  {
   "cell_type": "code",
   "execution_count": 40,
   "metadata": {},
   "outputs": [
    {
     "data": {
      "text/plain": [
       "[<matplotlib.lines.Line2D at 0x1c21e09cf8>]"
      ]
     },
     "execution_count": 40,
     "metadata": {},
     "output_type": "execute_result"
    },
    {
     "data": {
      "image/png": "[encoded data removed]",
      "text/plain": [
       "<Figure size 432x288 with 1 Axes>"
      ]
     },
     "metadata": {
      "needs_background": "light"
     },
     "output_type": "display_data"
    }
   ],
   "source": [
    "\n",
    "x_range = (-3,3)\n",
    "num_bins = 60\n",
    "hist_args = {'density':1,'range':x_range, 'bins': num_bins, 'alpha':.8}\n",
    "plt.hist(trace['effect_size'], **hist_args)\n",
    "plt.hist(trace['prior_effect_size'], **hist_args)\n",
    "#kde for actual effect size\n",
    "kde_prior_effect = stats.gaussian_kde(trace['prior_effect_size'][:])\n",
    "kde_effect = stats.gaussian_kde(trace['effect_size'])\n",
    "kde_plot_x = np.linspace(-3, 3, 1000)\n",
    "plt.plot(kde_plot_x, kde_effect(kde_plot_x))\n",
    "#TODO find method to provide smooth estimates for cauchy priors\n",
    "plt.plot(kde_plot_x, kde_prior_effect(kde_plot_x))\n",
    "#Bayes factor of approximately 5 (Ho aproximately 2.5, H1 approximately .5) \n",
    "#in support of the null hypothesis (Ho effect size = 0,H1 ~ Cauchy(0,1))"
   ]
  },
  {
   "cell_type": "code",
   "execution_count": null,
   "metadata": {},
   "outputs": [],
   "source": []
  },
  {
   "cell_type": "code",
   "execution_count": 49,
   "metadata": {},
   "outputs": [],
   "source": [
    "#assume same setup but assume effect size is negative\n",
    "#as SMM states that recall Summer > winter but in reality we observe the opposite pattern of results\n",
    "with pm.Model() as model:\n",
    "    upper_bounded_cauchy = pm.Bound(pm.Cauchy, upper=0.0)\n",
    "    effect_size = upper_bounded_cauchy('effect_size',alpha=0,beta=1)\n",
    "    std_dev = pm.HalfCauchy('std', beta=1)\n",
    "    mu = effect_size * std_dev\n",
    "    norm_distribution = pm.Normal('norm_obs', mu=mu, sd=std_dev, observed=x)\n",
    "    #priors distribution\n",
    "    prior_effect_size = pm.Cauchy('prior_effect_size',alpha=0,beta=1)"
   ]
  },
  {
   "cell_type": "code",
   "execution_count": 50,
   "metadata": {},
   "outputs": [
    {
     "name": "stderr",
     "output_type": "stream",
     "text": [
      "Auto-assigning NUTS sampler...\n",
      "Initializing NUTS using jitter+adapt_diag...\n",
      "Multiprocess sampling (2 chains in 2 jobs)\n",
      "NUTS: [prior_effect_size, std, effect_size]\n",
      "Sampling 2 chains: 100%|██████████| 21000/21000 [00:33<00:00, 633.85draws/s]\n",
      "/anaconda3/lib/python3.7/site-packages/mkl_fft/_numpy_fft.py:1044: FutureWarning: Using a non-tuple sequence for multidimensional indexing is deprecated; use `arr[tuple(seq)]` instead of `arr[seq]`. In the future this will be interpreted as an array index, `arr[np.array(seq)]`, which will result either in an error or a different result.\n",
      "  output = mkl_fft.rfftn_numpy(a, s, axes)\n",
      "There were 6 divergences after tuning. Increase `target_accept` or reparameterize.\n",
      "The number of effective samples is smaller than 10% for some parameters.\n"
     ]
    }
   ],
   "source": [
    "with model:\n",
    "    trace = pm.sample(10000)"
   ]
  },
  {
   "cell_type": "code",
   "execution_count": 62,
   "metadata": {},
   "outputs": [
    {
     "data": {
      "text/plain": [
       "[<matplotlib.lines.Line2D at 0x1c20b122e8>]"
      ]
     },
     "execution_count": 62,
     "metadata": {},
     "output_type": "execute_result"
    },
    {
     "data": {
      "image/png": "[encoded data removed]",
      "text/plain": [
       "<Figure size 432x288 with 1 Axes>"
      ]
     },
     "metadata": {
      "needs_background": "light"
     },
     "output_type": "display_data"
    }
   ],
   "source": [
    "\n",
    "hist_args['range'] = (-3,0)\n",
    "plt.hist(trace['effect_size'], **hist_args)\n",
    "plt.hist(trace['prior_effect_size'], **hist_args)\n",
    "kde_prior_effect = stats.gaussian_kde(trace['prior_effect_size'])\n",
    "kde_effect = stats.gaussian_kde(trace['effect_size'])\n",
    "kde_plot_x = np.linspace(-3, 0, 1000)\n",
    "plt.plot(kde_plot_x, kde_effect(kde_plot_x))\n",
    "#TODO find method to provide smooth estimates for cauchy priors\n",
    "plt.plot(kde_plot_x, kde_prior_effect(kde_plot_x))\n",
    "#indicates stong evidence in support of Ho - effect size = 0 relative to H1 effect size ~Cauchy(0,1)I(-inf,0)"
   ]
  },
  {
   "cell_type": "code",
   "execution_count": 64,
   "metadata": {},
   "outputs": [],
   "source": [
    "#example 8.3- two sample comparison of memory performance between normal water consumers - control\n",
    "# and oxygenated water consumers\n",
    "exp = [70, 80, 79,83, 77, 75, 84, 78, 75, 75, 78, 82, 74, 81, 72, 70, 75, 72, 76, 77];\n",
    "control = [56, 80, 63, 62, 67, 71, 68, 76, 79, 67, 76, 74, 67, 70, 62, 65, 72, 72, 69, 71];\n",
    "with pm.Model() as model:\n",
    "    mu = pm.Cauchy('mu',alpha=0, beta=1)\n",
    "    effect_size = pm.Cauchy('effect_size', alpha=0, beta=1)\n",
    "    std_dev = pm.HalfCauchy('std', beta=1)\n",
    "    std_dev_prior = pm.HalfCauchy('std_prior', beta=1)\n",
    "    #modeling difference between groups\n",
    "    mean_difference = std_dev*effect_size\n",
    "    \n",
    "    #use effect size (with variance) to model difference between two distributions\n",
    "    control_norm = pm.Normal('control', mu=mu-mean_difference/2, sd=std_dev, observed=control)\n",
    "    exp_norm = pm.Normal('exp', mu=mu+mean_difference/2, sd=std_dev, observed=exp)\n",
    "    prior_norm = pm.Normal('prior', mu=0, sd=2)\n",
    "    \n",
    "    "
   ]
  },
  {
   "cell_type": "code",
   "execution_count": 65,
   "metadata": {},
   "outputs": [
    {
     "name": "stderr",
     "output_type": "stream",
     "text": [
      "Auto-assigning NUTS sampler...\n",
      "Initializing NUTS using jitter+adapt_diag...\n",
      "Multiprocess sampling (2 chains in 2 jobs)\n",
      "NUTS: [prior, std_prior, std, effect_size, mu]\n",
      "Sampling 2 chains: 100%|██████████| 41000/41000 [01:01<00:00, 667.21draws/s]\n",
      "/anaconda3/lib/python3.7/site-packages/mkl_fft/_numpy_fft.py:1044: FutureWarning: Using a non-tuple sequence for multidimensional indexing is deprecated; use `arr[tuple(seq)]` instead of `arr[seq]`. In the future this will be interpreted as an array index, `arr[np.array(seq)]`, which will result either in an error or a different result.\n",
      "  output = mkl_fft.rfftn_numpy(a, s, axes)\n"
     ]
    }
   ],
   "source": [
    "with model:\n",
    "   trace = pm.sample(20000)"
   ]
  },
  {
   "cell_type": "code",
   "execution_count": 66,
   "metadata": {
    "scrolled": true
   },
   "outputs": [
    {
     "data": {
      "text/plain": [
       "(-3, 3)"
      ]
     },
     "execution_count": 66,
     "metadata": {},
     "output_type": "execute_result"
    },
    {
     "data": {
      "image/png": "[encoded data removed]",
      "text/plain": [
       "<Figure size 432x288 with 1 Axes>"
      ]
     },
     "metadata": {
      "needs_background": "light"
     },
     "output_type": "display_data"
    }
   ],
   "source": [
    "#very strong support for H1 that there is an effect of drinking oxygenated water using savage dickey method\n",
    "hist_args['range']=(-3,3)\n",
    "plt.hist(trace['prior'], **hist_args)\n",
    "plt.hist(trace['effect_size'], **hist_args)\n",
    "plt.xlim(-3,3)"
   ]
  },
  {
   "cell_type": "code",
   "execution_count": null,
   "metadata": {},
   "outputs": [],
   "source": []
  }
 ],
 "metadata": {
  "kernelspec": {
   "display_name": "Python 3",
   "language": "python",
   "name": "python3"
  },
  "language_info": {
   "codemirror_mode": {
    "name": "ipython",
    "version": 3
   },
   "file_extension": ".py",
   "mimetype": "text/x-python",
   "name": "python",
   "nbconvert_exporter": "python",
   "pygments_lexer": "ipython3",
   "version": "3.7.0"
  }
 },
 "nbformat": 4,
 "nbformat_minor": 2
}
